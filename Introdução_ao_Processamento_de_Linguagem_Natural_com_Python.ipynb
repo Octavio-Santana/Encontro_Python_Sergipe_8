{
 "cells": [
  {
   "cell_type": "markdown",
   "metadata": {},
   "source": [
    "# Encontro Python Sergipe 8\n",
    "\n",
    "## Introdução ao Processamento de Linguagem Natural com Python\n",
    "\n",
    "### Similaridade entre frases\n",
    "\n",
    "    Neste notebook vou mostrar como construir um algoritmo que analisa o quanto semelhante são duas frases, apenas para fins de estudo. Está não é uma solução completa, mas te dar uma ideia geral de como pode ser feito esse tipo de comparação apenas usando o conhecimento de álgebra linear."
   ]
  },
  {
   "cell_type": "code",
   "execution_count": 1,
   "metadata": {},
   "outputs": [],
   "source": [
    "import re\n",
    "import string\n",
    "from math import sqrt"
   ]
  },
  {
   "cell_type": "markdown",
   "metadata": {},
   "source": [
    "    Para esta analise de similaridade usei algumas frases curtas que foram escolhidas de maneira aleatória."
   ]
  },
  {
   "cell_type": "code",
   "execution_count": 2,
   "metadata": {},
   "outputs": [],
   "source": [
    "corpus = [\n",
    "    'O importante não é vencer todos os dias, mas lutar sempre.',\n",
    "    'Maior que a tristeza de não haver vencido é a vergonha de não ter lutado!',\n",
    "    'É melhor conquistar a si mesmo do que vencer mil batalhas.',\n",
    "    'Oi eu sou o goku!',\n",
    "    'Oi eu não sou o goku!!!',\n",
    "    'Oi seu nome é goku(?)'\n",
    "]"
   ]
  },
  {
   "cell_type": "code",
   "execution_count": 3,
   "metadata": {},
   "outputs": [],
   "source": [
    "def clear_text(text):\n",
    "    \"\"\"\n",
    "    Limpar os textos, eliminando pontuações e converter \n",
    "    todo o texto com letras minusculas.\n",
    "    \"\"\"\n",
    "    pattern = \"[{}]\".format(string.punctuation)\n",
    "    text = [word.lower() for word in text]\n",
    "    text = [[re.sub(pattern, \"\", word) for word in words.split()] for words in text]\n",
    "    text = [[word for word in words if len(word)>1] for words in text]    \n",
    "    text = [' '.join(words) for words in text]\n",
    "    return text"
   ]
  },
  {
   "cell_type": "code",
   "execution_count": 4,
   "metadata": {},
   "outputs": [
    {
     "name": "stdout",
     "output_type": "stream",
     "text": [
      "-- Antes --\n",
      "O importante não é vencer todos os dias, mas lutar sempre.\n",
      "Maior que a tristeza de não haver vencido é a vergonha de não ter lutado!\n",
      "É melhor conquistar a si mesmo do que vencer mil batalhas.\n",
      "Oi eu sou o goku!\n",
      "Oi eu não sou o goku!!!\n",
      "Oi seu nome é goku(?)\n",
      "\n",
      "-- Depois --\n",
      "importante não vencer todos os dias mas lutar sempre\n",
      "maior que tristeza de não haver vencido vergonha de não ter lutado\n",
      "melhor conquistar si mesmo do que vencer mil batalhas\n",
      "oi eu sou goku\n",
      "oi eu não sou goku\n",
      "oi seu nome goku\n"
     ]
    },
    {
     "data": {
      "text/plain": [
       "[None, None, None, None, None, None]"
      ]
     },
     "execution_count": 4,
     "metadata": {},
     "output_type": "execute_result"
    }
   ],
   "source": [
    "corpus_clear = clear_text(corpus)\n",
    "\n",
    "print('-- Antes --')\n",
    "[print(frase) for frase in corpus]\n",
    "print()\n",
    "print('-- Depois --')\n",
    "[print(frase) for frase in corpus_clear]"
   ]
  },
  {
   "cell_type": "markdown",
   "metadata": {},
   "source": [
    "    Em seguida vamos construir um vetor com todas as palavras do corpus, após ser feita a limpeza do mesmo."
   ]
  },
  {
   "cell_type": "code",
   "execution_count": 5,
   "metadata": {},
   "outputs": [],
   "source": [
    "def text_all(text):\n",
    "    \"\"\"\n",
    "    Armazena em um vetor todas as palavras dos textos sem repetições.\n",
    "    \"\"\"\n",
    "    text_set = set()\n",
    "    for w in [words.split() for words in text]:\n",
    "        text_set.update(w)\n",
    "    return list(text_set) "
   ]
  },
  {
   "cell_type": "code",
   "execution_count": 6,
   "metadata": {},
   "outputs": [
    {
     "name": "stdout",
     "output_type": "stream",
     "text": [
      "['do', 'sempre', 'batalhas', 'mesmo', 'que', 'oi', 'haver', 'nome', 'os', 'todos', 'si', 'melhor', 'seu', 'tristeza', 'sou', 'vencido', 'mas', 'vencer', 'de', 'ter', 'não', 'lutar', 'goku', 'mil', 'eu', 'lutado', 'dias', 'vergonha', 'importante', 'maior', 'conquistar']\n"
     ]
    }
   ],
   "source": [
    "vocabulary = text_all(corpus_clear)\n",
    "print(vocabulary)"
   ]
  },
  {
   "cell_type": "code",
   "execution_count": 7,
   "metadata": {},
   "outputs": [
    {
     "name": "stdout",
     "output_type": "stream",
     "text": [
      "[0, 1, 0, 0, 0, 0, 0, 0, 1, 1, 0, 0, 0, 0, 0, 0, 1, 1, 0, 0, 1, 1, 0, 0, 0, 0, 1, 0, 1, 0, 0]\n",
      "[0, 0, 0, 0, 1, 0, 1, 0, 0, 0, 0, 0, 0, 1, 0, 1, 0, 0, 1, 1, 1, 0, 0, 0, 0, 1, 0, 1, 0, 1, 0]\n",
      "[1, 0, 1, 1, 1, 0, 0, 0, 0, 0, 1, 1, 0, 0, 0, 0, 0, 1, 0, 0, 0, 0, 0, 1, 0, 0, 0, 0, 0, 0, 1]\n",
      "[0, 0, 0, 0, 0, 1, 0, 0, 0, 0, 0, 0, 0, 0, 1, 0, 0, 0, 0, 0, 0, 0, 1, 0, 1, 0, 0, 0, 0, 0, 0]\n",
      "[0, 0, 0, 0, 0, 1, 0, 0, 0, 0, 0, 0, 0, 0, 1, 0, 0, 0, 0, 0, 1, 0, 1, 0, 1, 0, 0, 0, 0, 0, 0]\n",
      "[0, 0, 0, 0, 0, 1, 0, 1, 0, 0, 0, 0, 1, 0, 0, 0, 0, 0, 0, 0, 0, 0, 1, 0, 0, 0, 0, 0, 0, 0, 0]\n"
     ]
    }
   ],
   "source": [
    "def fit_transform(text, words=vocabulary):\n",
    "    \"\"\"\n",
    "    Converte o texto em um vetor, onde compara se cada \n",
    "    palavra obtida no vetor de \n",
    "    todas as palavras contém ou não em cada texto. \n",
    "    Insere 1 se sim e 0 se não.\n",
    "    \"\"\"\n",
    "    \n",
    "    return [int(word in text.split()) for word in words]\n",
    "\n",
    "features = list(map(fit_transform, corpus_clear))\n",
    "\n",
    "for feature in features:\n",
    "    print(feature)"
   ]
  },
  {
   "cell_type": "markdown",
   "metadata": {},
   "source": [
    "    Para determinar o quanto similar são os comentários, é necessário utilizar algum procedimento (formula) para medir esta similaridade. Uma delas é a métrica chamada similaridade do cosseno. Quem já cursou álgebra linear deve saber que o produto vetorial de dois vetores é igual ao modulo de cada vetor vezes o cosseno do ângulo formado entre eles. E é justamente o cosseno que utilizaremos para determinar o quanto similar são os comentários."
   ]
  },
  {
   "cell_type": "code",
   "execution_count": 8,
   "metadata": {},
   "outputs": [],
   "source": [
    "def dot(v, w):\n",
    "    return sum([vi*wi for vi, wi in zip(v,w)])\n",
    "\n",
    "def cosine_similarity(v, w):\n",
    "    return dot(v, w)/sqrt(dot(v, v)*dot(w, w))    "
   ]
  },
  {
   "cell_type": "code",
   "execution_count": 9,
   "metadata": {},
   "outputs": [],
   "source": [
    "def text_simillarities(id_text, features=features, \n",
    "                       text=corpus, n_text=3):\n",
    "    \"\"\"\n",
    "    Dado o texto a ser analisado, a função retorna em \n",
    "    ordem descrecente quais os demais textos são\n",
    "    similares ao analisado. A função retorna matriz \n",
    "    de 2 por n_text, onde a primeira e a segunda coluna\n",
    "    refere-se ao texto analisado e a similaridade do \n",
    "    texto analisado, respectivamente.\n",
    "    \"\"\"\n",
    "    simillarity = [[cosine_similarity(features[id_text], feature), int(i)] \\\n",
    "                   for i, feature in enumerate(features)]\n",
    "    \n",
    "    simillarity = list(sorted(simillarity, \n",
    "                              key=lambda sim: sim[0], \n",
    "                              reverse=True))    \n",
    "    \n",
    "    return [[text[indice], sim] for sim, indice in simillarity[1:]][:n_text]\n"
   ]
  },
  {
   "cell_type": "code",
   "execution_count": 10,
   "metadata": {},
   "outputs": [
    {
     "name": "stdout",
     "output_type": "stream",
     "text": [
      "Texto analisado ->  Oi eu sou o goku! \n",
      "\n",
      "Texto: Oi eu não sou o goku!!! | Similaridade: 0.89\n",
      "Texto: Oi seu nome é goku(?) | Similaridade: 0.5\n",
      "Texto: O importante não é vencer todos os dias, mas lutar sempre. | Similaridade: 0.0\n"
     ]
    }
   ],
   "source": [
    "print('Texto analisado -> ',corpus[3], '\\n')\n",
    "for t, s in text_simillarities(3):\n",
    "    print('Texto: {} | Similaridade: {}'.format(t, round(s, 2)))"
   ]
  },
  {
   "cell_type": "code",
   "execution_count": null,
   "metadata": {},
   "outputs": [],
   "source": []
  }
 ],
 "metadata": {
  "kernelspec": {
   "display_name": "Python 3",
   "language": "python",
   "name": "python3"
  },
  "language_info": {
   "codemirror_mode": {
    "name": "ipython",
    "version": 3
   },
   "file_extension": ".py",
   "mimetype": "text/x-python",
   "name": "python",
   "nbconvert_exporter": "python",
   "pygments_lexer": "ipython3",
   "version": "3.6.6"
  }
 },
 "nbformat": 4,
 "nbformat_minor": 2
}
